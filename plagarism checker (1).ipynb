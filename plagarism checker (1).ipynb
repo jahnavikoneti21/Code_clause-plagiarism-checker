{
 "cells": [
  {
   "cell_type": "code",
   "execution_count": 45,
   "id": "7dc761e5",
   "metadata": {},
   "outputs": [],
   "source": [
    "import os\n",
    "from sklearn.feature_extraction.text import TfidfVectorizer\n",
    "from sklearn.metrics.pairwise import cosine_similarity\n"
   ]
  },
  {
   "cell_type": "code",
   "execution_count": 46,
   "id": "3fb55304",
   "metadata": {},
   "outputs": [],
   "source": [
    "files =[doc for doc in os.listdir() if doc.endswith('.txt')]"
   ]
  },
  {
   "cell_type": "code",
   "execution_count": 47,
   "id": "3ec41a73",
   "metadata": {},
   "outputs": [
    {
     "data": {
      "text/plain": [
       "['jaanu1.txt', 'john.txt', 'name.txt', 'untitled.txt']"
      ]
     },
     "execution_count": 47,
     "metadata": {},
     "output_type": "execute_result"
    }
   ],
   "source": [
    "files"
   ]
  },
  {
   "cell_type": "code",
   "execution_count": 48,
   "id": "24ef0e5f",
   "metadata": {},
   "outputs": [],
   "source": [
    "file1=[open(_file,encoding='Utf-8').read() for _file in files]"
   ]
  },
  {
   "cell_type": "code",
   "execution_count": 49,
   "id": "4402776c",
   "metadata": {},
   "outputs": [
    {
     "data": {
      "text/plain": [
       "['1.Life is all about doing your best in trying to\\n2 find what works out for you and taking ost time in\\n3 tring to pursue those skills',\n",
       " '1.Life is all about finding money and spending on luxury stuffs\\n2 coz this life is kinda short,trust',\n",
       " '1.Life to me is about finding money and use it on things that makes you happy\\n2 coz this life is kinda short',\n",
       " '']"
      ]
     },
     "execution_count": 49,
     "metadata": {},
     "output_type": "execute_result"
    }
   ],
   "source": [
    "file1"
   ]
  },
  {
   "cell_type": "code",
   "execution_count": 50,
   "id": "08a4896a",
   "metadata": {},
   "outputs": [],
   "source": [
    "#converting text to vectors\n",
    "def vectorize(text):\n",
    "    return TfidfVectorizer().fit_transform(text).toarray()"
   ]
  },
  {
   "cell_type": "code",
   "execution_count": 51,
   "id": "de62a883",
   "metadata": {},
   "outputs": [],
   "source": [
    "def similarity(doc1,doc2):\n",
    "    return cosine_similarity([doc1,doc2])"
   ]
  },
  {
   "cell_type": "code",
   "execution_count": 52,
   "id": "3def9daa",
   "metadata": {},
   "outputs": [],
   "source": [
    "vectors=vectorize(file1)"
   ]
  },
  {
   "cell_type": "code",
   "execution_count": 53,
   "id": "aa34b7d3",
   "metadata": {},
   "outputs": [
    {
     "data": {
      "text/plain": [
       "array([[0.12675009, 0.15656158, 0.12675009, 0.19857851, 0.        ,\n",
       "        0.19857851, 0.19857851, 0.        , 0.19857851, 0.        ,\n",
       "        0.39715702, 0.12675009, 0.        , 0.        , 0.12675009,\n",
       "        0.        , 0.        , 0.        , 0.        , 0.        ,\n",
       "        0.19857851, 0.19857851, 0.19857851, 0.        , 0.19857851,\n",
       "        0.        , 0.        , 0.19857851, 0.        , 0.        ,\n",
       "        0.        , 0.19857851, 0.19857851, 0.31312316, 0.19857851,\n",
       "        0.        , 0.19857851, 0.        , 0.19857851, 0.19857851,\n",
       "        0.15656158, 0.19857851],\n",
       "       [0.17671088, 0.21827309, 0.17671088, 0.        , 0.21827309,\n",
       "        0.        , 0.        , 0.21827309, 0.        , 0.        ,\n",
       "        0.        , 0.35342175, 0.        , 0.21827309, 0.35342175,\n",
       "        0.27685174, 0.        , 0.        , 0.21827309, 0.21827309,\n",
       "        0.        , 0.        , 0.        , 0.21827309, 0.        ,\n",
       "        0.27685174, 0.27685174, 0.        , 0.        , 0.        ,\n",
       "        0.21827309, 0.        , 0.        , 0.        , 0.        ,\n",
       "        0.27685174, 0.        , 0.        , 0.        , 0.        ,\n",
       "        0.        , 0.        ],\n",
       "       [0.15633945, 0.        , 0.15633945, 0.        , 0.19311033,\n",
       "        0.        , 0.        , 0.19311033, 0.        , 0.24493596,\n",
       "        0.        , 0.3126789 , 0.24493596, 0.19311033, 0.3126789 ,\n",
       "        0.        , 0.24493596, 0.24493596, 0.19311033, 0.19311033,\n",
       "        0.        , 0.        , 0.        , 0.19311033, 0.        ,\n",
       "        0.        , 0.        , 0.        , 0.24493596, 0.24493596,\n",
       "        0.19311033, 0.        , 0.        , 0.19311033, 0.        ,\n",
       "        0.        , 0.        , 0.24493596, 0.        , 0.        ,\n",
       "        0.19311033, 0.        ],\n",
       "       [0.        , 0.        , 0.        , 0.        , 0.        ,\n",
       "        0.        , 0.        , 0.        , 0.        , 0.        ,\n",
       "        0.        , 0.        , 0.        , 0.        , 0.        ,\n",
       "        0.        , 0.        , 0.        , 0.        , 0.        ,\n",
       "        0.        , 0.        , 0.        , 0.        , 0.        ,\n",
       "        0.        , 0.        , 0.        , 0.        , 0.        ,\n",
       "        0.        , 0.        , 0.        , 0.        , 0.        ,\n",
       "        0.        , 0.        , 0.        , 0.        , 0.        ,\n",
       "        0.        , 0.        ]])"
      ]
     },
     "execution_count": 53,
     "metadata": {},
     "output_type": "execute_result"
    }
   ],
   "source": [
    "vectors"
   ]
  },
  {
   "cell_type": "code",
   "execution_count": 54,
   "id": "27a692ab",
   "metadata": {},
   "outputs": [],
   "source": [
    "s_vectors=list(zip(files,vectors))\n"
   ]
  },
  {
   "cell_type": "code",
   "execution_count": 55,
   "id": "5d107b7c",
   "metadata": {},
   "outputs": [
    {
     "data": {
      "text/plain": [
       "[('jaanu1.txt',\n",
       "  array([0.12675009, 0.15656158, 0.12675009, 0.19857851, 0.        ,\n",
       "         0.19857851, 0.19857851, 0.        , 0.19857851, 0.        ,\n",
       "         0.39715702, 0.12675009, 0.        , 0.        , 0.12675009,\n",
       "         0.        , 0.        , 0.        , 0.        , 0.        ,\n",
       "         0.19857851, 0.19857851, 0.19857851, 0.        , 0.19857851,\n",
       "         0.        , 0.        , 0.19857851, 0.        , 0.        ,\n",
       "         0.        , 0.19857851, 0.19857851, 0.31312316, 0.19857851,\n",
       "         0.        , 0.19857851, 0.        , 0.19857851, 0.19857851,\n",
       "         0.15656158, 0.19857851])),\n",
       " ('john.txt',\n",
       "  array([0.17671088, 0.21827309, 0.17671088, 0.        , 0.21827309,\n",
       "         0.        , 0.        , 0.21827309, 0.        , 0.        ,\n",
       "         0.        , 0.35342175, 0.        , 0.21827309, 0.35342175,\n",
       "         0.27685174, 0.        , 0.        , 0.21827309, 0.21827309,\n",
       "         0.        , 0.        , 0.        , 0.21827309, 0.        ,\n",
       "         0.27685174, 0.27685174, 0.        , 0.        , 0.        ,\n",
       "         0.21827309, 0.        , 0.        , 0.        , 0.        ,\n",
       "         0.27685174, 0.        , 0.        , 0.        , 0.        ,\n",
       "         0.        , 0.        ])),\n",
       " ('name.txt',\n",
       "  array([0.15633945, 0.        , 0.15633945, 0.        , 0.19311033,\n",
       "         0.        , 0.        , 0.19311033, 0.        , 0.24493596,\n",
       "         0.        , 0.3126789 , 0.24493596, 0.19311033, 0.3126789 ,\n",
       "         0.        , 0.24493596, 0.24493596, 0.19311033, 0.19311033,\n",
       "         0.        , 0.        , 0.        , 0.19311033, 0.        ,\n",
       "         0.        , 0.        , 0.        , 0.24493596, 0.24493596,\n",
       "         0.19311033, 0.        , 0.        , 0.19311033, 0.        ,\n",
       "         0.        , 0.        , 0.24493596, 0.        , 0.        ,\n",
       "         0.19311033, 0.        ])),\n",
       " ('untitled.txt',\n",
       "  array([0., 0., 0., 0., 0., 0., 0., 0., 0., 0., 0., 0., 0., 0., 0., 0., 0.,\n",
       "         0., 0., 0., 0., 0., 0., 0., 0., 0., 0., 0., 0., 0., 0., 0., 0., 0.,\n",
       "         0., 0., 0., 0., 0., 0., 0., 0.]))]"
      ]
     },
     "execution_count": 55,
     "metadata": {},
     "output_type": "execute_result"
    }
   ],
   "source": [
    "s_vectors"
   ]
  },
  {
   "cell_type": "code",
   "execution_count": 56,
   "id": "41528951",
   "metadata": {},
   "outputs": [],
   "source": [
    "plagiarism_results=set()"
   ]
  },
  {
   "cell_type": "code",
   "execution_count": 61,
   "id": "ee130c39",
   "metadata": {},
   "outputs": [],
   "source": [
    "def check_plagiarism():\n",
    "    global s_vectors\n",
    "    for a,text_vector_a in s_vectors:\n",
    "        new_vectors=s_vectors.copy()\n",
    "        current_index=new_vectors.index((a,text_vector_a))\n",
    "        print(current_index)\n",
    "        del new_vectors[current_index]\n",
    "        for b,text_vector_b in new_vectors:\n",
    "            sim_score=similarity(text_vector_a,text_vector_b)[0][1]\n",
    "            print(similarity(text_vector_a,text_vector_b)[0][1])\n",
    "            pairs=sorted((a,b))\n",
    "            #print(similarity(text_vector_a,text_vector_b))\n",
    "            #print(pairs)\n",
    "            score=(pairs[0],pairs[1],sim_score)\n",
    "            plagiarism_results.add(score)\n",
    "        return plagiarism_results\n",
    "            "
   ]
  },
  {
   "cell_type": "code",
   "execution_count": 62,
   "id": "13833c97",
   "metadata": {},
   "outputs": [
    {
     "name": "stdout",
     "output_type": "stream",
     "text": [
      "0\n",
      "0.168561896686747\n",
      "0.20959720990348715\n",
      "0.0\n",
      "('jaanu1.txt', 'john.txt', 0.168561896686747)\n",
      "('jaanu1.txt', 'untitled.txt', 0.0)\n",
      "('jaanu1.txt', 'name.txt', 0.20959720990348715)\n"
     ]
    }
   ],
   "source": [
    "for data in check_plagiarism():\n",
    "    print(data)"
   ]
  },
  {
   "cell_type": "code",
   "execution_count": null,
   "id": "3efb4d9f",
   "metadata": {},
   "outputs": [],
   "source": []
  },
  {
   "cell_type": "code",
   "execution_count": null,
   "id": "b8013c07",
   "metadata": {},
   "outputs": [],
   "source": []
  }
 ],
 "metadata": {
  "kernelspec": {
   "display_name": "Python 3 (ipykernel)",
   "language": "python",
   "name": "python3"
  },
  "language_info": {
   "codemirror_mode": {
    "name": "ipython",
    "version": 3
   },
   "file_extension": ".py",
   "mimetype": "text/x-python",
   "name": "python",
   "nbconvert_exporter": "python",
   "pygments_lexer": "ipython3",
   "version": "3.9.13"
  }
 },
 "nbformat": 4,
 "nbformat_minor": 5
}
